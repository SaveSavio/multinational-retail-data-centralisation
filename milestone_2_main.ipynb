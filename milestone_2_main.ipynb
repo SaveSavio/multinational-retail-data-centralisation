{
 "cells": [
  {
   "attachments": {},
   "cell_type": "markdown",
   "metadata": {},
   "source": [
    "# main.py\n",
    "It serves as the entry point of the project Milestone 2 and contains the code to initialize and coordinate\n",
    "the execution of other modules or classes.\n",
    "\n",
    "It call methods that\n",
    "    Connect to source and download data\n",
    "    Clean the data\n",
    "    Upload the data to a Postgresql database on localhost named sales_data\n",
    "\n",
    "Those methods are contained in three classes coded in the files\n",
    "\n",
    "- DatabaseConnector ---> database_utils\n",
    "- DataCleaning --> data_cleaning.py\n",
    "- DataExtractor --> data_extraction.py"
   ]
  },
  {
   "cell_type": "code",
   "execution_count": null,
   "metadata": {},
   "outputs": [],
   "source": [
    "# import the DatabaseConnector class for connecting and uploading data from various sources\n",
    "from database_utils import DatabaseConnector as database_connector\n",
    "# import the data cleaning Class\n",
    "from data_cleaning import DataCleaning as data_cleaner\n",
    "# import the DataExtractor class\n",
    "from data_extraction import DataExtractor as data_extractor"
   ]
  },
  {
   "attachments": {},
   "cell_type": "markdown",
   "metadata": {},
   "source": [
    "## User data"
   ]
  },
  {
   "cell_type": "code",
   "execution_count": null,
   "metadata": {},
   "outputs": [],
   "source": [
    "# the credata_extractorntials to connect the RDS AWS server are stored in this yaml file\n",
    "file_name = 'db_creds.yaml'\n",
    "\n",
    "# read credata_extractorntial and transform them from yaml to dict\n",
    "cred_dict = database_connector.read_db_creds(file_name)\n",
    "\n",
    "# initialize the SQLalchemy engine\n",
    "RDS_engine = database_connector.init_db_engine(cred_dict)\n",
    "\n",
    "# get the list of tables in the RDS database\n",
    "tables_list = data_extractor.list_db_tables(RDS_engine)\n",
    "\n",
    "# print the list of tables\n",
    "print(tables_list)\n",
    "\n",
    "# read the data from the RDS table of users and stores in the users_data variable\n",
    "users_data = data_extractor.read_RDS_table(tables_list[1], RDS_engine)\n",
    "\n",
    "\n",
    "# clean the user data via the relative method\n",
    "user_data_clean = data_cleaner.clean_user_data(users_data)\n",
    "\n",
    "file_name_psql = 'db_creds.yaml'\n",
    "cred_dict_psql = database_connector.read_db_creds(file_name_psql)\n",
    "\n",
    "# upload the user data to the SQL server\n",
    "database_connector.upload_to_db(user_data_clean, 'dim_users', cred_dict_psql)"
   ]
  },
  {
   "attachments": {},
   "cell_type": "markdown",
   "metadata": {},
   "source": []
  }
 ],
 "metadata": {
  "language_info": {
   "name": "python"
  },
  "orig_nbformat": 4
 },
 "nbformat": 4,
 "nbformat_minor": 2
}
